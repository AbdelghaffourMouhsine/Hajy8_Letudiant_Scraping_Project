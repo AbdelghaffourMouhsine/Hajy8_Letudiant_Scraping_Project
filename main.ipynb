{
 "cells": [
  {
   "cell_type": "code",
   "execution_count": null,
   "id": "c9e4813a-0b43-495d-8704-58ee68ffde12",
   "metadata": {
    "scrolled": true
   },
   "outputs": [],
   "source": [
    "# !pip install selenium"
   ]
  },
  {
   "cell_type": "code",
   "execution_count": 3,
   "id": "c06da308-f56d-457d-82c5-54a8d633d174",
   "metadata": {
    "scrolled": true
   },
   "outputs": [],
   "source": [
    "# !docker-compose up -d"
   ]
  },
  {
   "cell_type": "code",
   "execution_count": null,
   "id": "40a792e2-4d77-4eb6-8050-700adbbcb237",
   "metadata": {},
   "outputs": [],
   "source": []
  },
  {
   "cell_type": "code",
   "execution_count": 1,
   "id": "b7099019-60f0-4c87-adac-68cf9807e425",
   "metadata": {},
   "outputs": [
    {
     "name": "stdout",
     "output_type": "stream",
     "text": [
      "https://www.letudiant.fr/etudes/annuaire-enseignement-superieur/etablissement/critere-Master/region-normandie.html\n",
      "******************************************************************************************************************************************************\n",
      "le nombre des ecoles est :  20\n",
      "https://www.letudiant.fr/etudes/annuaire-enseignement-superieur/etablissement/critere-Master/region-normandie/page-2.html\n",
      "******************************************************************************************************************************************************\n",
      "le nombre des ecoles est :  18\n",
      "3333333333\n",
      "None\n",
      "new storage : 1 => at index: 0\n",
      "new storage : 10 => at index: 10\n",
      "new storage : 10 => at index: 20\n",
      "new storage : 10 => at index: 30\n",
      "new storage : 7 => at index: 37\n"
     ]
    }
   ],
   "source": [
    "# from ThreadWorker import ThreadWorker\n",
    "from ProxyLoader import ProxyLoader\n",
    "from LetudiantScraping import LetudiantScraping\n",
    "from EcoleStorage import EcoleStorage\n",
    "from Ecole import Ecole\n",
    "\n",
    "import pandas as pd\n",
    "import threading\n",
    "import re\n",
    "\n",
    "proxyLoader = ProxyLoader()\n",
    "proxy = proxyLoader.get_proxy(51)\n",
    "\n",
    "regions = [\n",
    "    'Auvergne-Rhône-Alpes',\n",
    "    'Bourgogne-Franche-Comté',\n",
    "    'Bretagne',\n",
    "    'Centre-Val de Loire',\n",
    "    'Corse',\n",
    "    'Grand Est',\n",
    "    'Hauts-de-France',\n",
    "    \"Normandie\"\n",
    "]\n",
    "\n",
    "region = \"Normandie\"\n",
    "file_path = 'results/ecoles_results_7'\n",
    "is_for_more_inf = False\n",
    "def main():\n",
    "\n",
    "    # first part\n",
    "    if not is_for_more_inf:\n",
    "        letudiantScraping = LetudiantScraping(url=\"https://www.letudiant.fr/etudes/annuaire-enseignement-superieur/etablissement/critere-Master.html\", region=region, file_path=file_path, with_selenium_grid=False)\n",
    "        result = letudiantScraping.start_scraping()\n",
    "        print(result)\n",
    "    # second part    \n",
    "    try:\n",
    "        # Lire le fichier CSV de la liste des ecoles\n",
    "        df = pd.read_csv(f'{file_path}.csv')\n",
    "        df['ecole_address'] = None\n",
    "        df['ecole_comment_contacter'] = None\n",
    "        ecoles = []\n",
    "        for index, row in df.iterrows():\n",
    "            ecole = Ecole()\n",
    "            ecole.init_from_dic(row)\n",
    "            letudiantScraping = LetudiantScraping(url=row['ecole_more_inf_url'], proxy=proxy, with_selenium_grid=False)\n",
    "            result = letudiantScraping.start_scraping_more_info()\n",
    "            if result['status']:\n",
    "                ecole.ecole_phone = result['data'].ecole_phone\n",
    "                ecole.ecole_email = result['data'].ecole_email\n",
    "                ecole.ecole_address = result['data'].ecole_address\n",
    "                ecole.ecole_web_site_url = result['data'].ecole_web_site_url\n",
    "                ecole.ecole_comment_contacter = result['data'].ecole_comment_contacter\n",
    "                ecoles.append(ecole)\n",
    "                \n",
    "            if index % 10 == 0:\n",
    "                ecoleStorage = EcoleStorage(f'{file_path}_{nom_valide(region)}')\n",
    "                ecoleStorage.insert_ecoles(ecoles)\n",
    "                ecoleStorage.close_file()\n",
    "                print(f'new storage : {len(ecoles)} => at index: {index}')\n",
    "                ecoles = []\n",
    "\n",
    "        if len(ecoles) > 0:\n",
    "            ecoleStorage = EcoleStorage(f'{file_path}_{nom_valide(region)}')\n",
    "            ecoleStorage.insert_ecoles(ecoles)\n",
    "            ecoleStorage.close_file()\n",
    "            print(f'new storage : {len(ecoles)} => at index: {index}')\n",
    "            ecoles = []\n",
    "            \n",
    "    except Exception as e:\n",
    "        print(e)\n",
    "        if len(ecoles) > 0:\n",
    "            ecoleStorage = EcoleStorage(f'{file_path}_{nom_valide(region)}')\n",
    "            ecoleStorage.insert_ecoles(ecoles)\n",
    "            ecoleStorage.close_file()\n",
    "            print(f'new storage : {len(ecoles)} => at index: {index}')\n",
    "            ecoles = []\n",
    "\n",
    "def nom_valide(chaine):\n",
    "    chaine = chaine.strip()\n",
    "    # Remplacer les espaces multiples par un seul tiret bas\n",
    "    chaine = re.sub(r'\\s+', '_', chaine)\n",
    "    # Supprimer les caractères non autorisés (garde les lettres, chiffres, tirets bas et points)\n",
    "    chaine = re.sub(r'[^\\w.-]', '_', chaine)\n",
    "    return chaine\n",
    "     \n",
    "if __name__ == \"__main__\":\n",
    "    main()\n",
    "    # Lire le fichier CSV\n",
    "    df = pd.read_csv(f'{file_path}_{nom_valide(region)}.csv')\n",
    "    # Enregistrer dans un fichier Excel\n",
    "    df.to_excel(f'{file_path}_{nom_valide(region)}.xlsx', index=False, engine='openpyxl')"
   ]
  },
  {
   "cell_type": "code",
   "execution_count": 9,
   "id": "99b831c4-1c9c-4e20-beb9-34c1a7878a50",
   "metadata": {},
   "outputs": [],
   "source": []
  },
  {
   "cell_type": "code",
   "execution_count": null,
   "id": "329585d0-5054-495d-b0e9-473503eb15b5",
   "metadata": {},
   "outputs": [],
   "source": []
  },
  {
   "cell_type": "code",
   "execution_count": 3,
   "id": "3880c854-1563-4d11-a95c-b69c7c024963",
   "metadata": {},
   "outputs": [],
   "source": []
  },
  {
   "cell_type": "code",
   "execution_count": null,
   "id": "53d1d2cd-7ea7-4908-ba21-935deb208cec",
   "metadata": {},
   "outputs": [],
   "source": []
  },
  {
   "cell_type": "code",
   "execution_count": null,
   "id": "f10e3d0f-d92d-4474-a30c-821b6f037ed3",
   "metadata": {},
   "outputs": [],
   "source": []
  }
 ],
 "metadata": {
  "kernelspec": {
   "display_name": "Python 3 (ipykernel)",
   "language": "python",
   "name": "python3"
  },
  "language_info": {
   "codemirror_mode": {
    "name": "ipython",
    "version": 3
   },
   "file_extension": ".py",
   "mimetype": "text/x-python",
   "name": "python",
   "nbconvert_exporter": "python",
   "pygments_lexer": "ipython3",
   "version": "3.12.4"
  }
 },
 "nbformat": 4,
 "nbformat_minor": 5
}
